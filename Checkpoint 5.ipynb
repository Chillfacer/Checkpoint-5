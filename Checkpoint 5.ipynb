{
 "cells": [
  {
   "cell_type": "code",
   "execution_count": 3,
   "id": "3cf5bfe0",
   "metadata": {},
   "outputs": [
    {
     "name": "stdout",
     "output_type": "stream",
     "text": [
      "(1, 2, 3)\n"
     ]
    }
   ],
   "source": [
    "class Point3D:\n",
    "    def __init__(self,x, y, z):\n",
    "        self.x = x\n",
    "        self.y = y\n",
    "        self.z = z\n",
    "        \n",
    "    def oo(self,x, y, z):\n",
    "        return(x, y, z)\n",
    "\n",
    "my_point = Point3D(1, 2, 3)\n",
    "u=my_point.oo(1, 2, 3)\n",
    "print(u)\n",
    "\n",
    "Question = 1"
   ]
  },
  {
   "cell_type": "code",
   "execution_count": 2,
   "id": "853512f1",
   "metadata": {},
   "outputs": [
    {
     "name": "stdout",
     "output_type": "stream",
     "text": [
      "12\n",
      "14\n"
     ]
    }
   ],
   "source": [
    "class Rectangle:\n",
    "    def __init__(self, length, width):\n",
    "        self.length = length\n",
    "        self.width = width\n",
    "    \n",
    "    def Area(self, length, width):\n",
    "        area = (length * width)\n",
    "        return area\n",
    "    \n",
    "    def Perimeter(self, length, width):\n",
    "        perimeter = (length + width) * 2\n",
    "        return perimeter\n",
    "\n",
    "my_rectangle = Rectangle(length = 4, width = 3)\n",
    "\n",
    "print(my_rectangle.Area(4, 3))\n",
    "print(my_rectangle.Perimeter(4, 3))\n",
    "\n",
    "Question = 2"
   ]
  },
  {
   "cell_type": "code",
   "execution_count": 8,
   "id": "80829ab9",
   "metadata": {},
   "outputs": [
    {
     "data": {
      "text/plain": [
       "31.41592653589793"
      ]
     },
     "execution_count": 8,
     "metadata": {},
     "output_type": "execute_result"
    }
   ],
   "source": [
    "import math\n",
    "\n",
    "class Circle:\n",
    "    def __init__(self, o, r):\n",
    "        self.o =o\n",
    "        self.r = r\n",
    "    \n",
    "    def Area(self, o, r):\n",
    "        return (math.pi * r) ** 2\n",
    "    \n",
    "    def Perimeter(self, o, r):\n",
    "        return math.pi*2*r\n",
    "\n",
    "my_circle = Circle (3, 5)\n",
    "my_circle.Area(3, 5)\n",
    "my_circle.Perimeter(3, 5)"
   ]
  },
  {
   "cell_type": "code",
   "execution_count": 6,
   "id": "d274c73f",
   "metadata": {},
   "outputs": [
    {
     "name": "stdout",
     "output_type": "stream",
     "text": [
      "Operation Successful\n",
      "Operation Successful\n",
      "Operation Failed\n"
     ]
    }
   ],
   "source": [
    "class Bank:\n",
    "    def __init__(self, balance):\n",
    "        self.balance = balance\n",
    "    \n",
    "    def deposit(self, amount):\n",
    "        if amount > 0:\n",
    "            self.balance += amount\n",
    "            print(\"Operation Successful\")\n",
    "        else:\n",
    "            print(\"Operation Failed\")\n",
    "    \n",
    "    def Withdraw(self, amount):\n",
    "        if amount > 0:\n",
    "            self.balance -= amount\n",
    "            print(\"Operation Successful\")\n",
    "        else:\n",
    "            print(\"Operation Successful\")\n",
    "\n",
    "# My Bank Account\n",
    "my_account = Bank(1000)\n",
    "\n",
    "#Deposit some money\n",
    "my_account.deposit(500)\n",
    "\n",
    "#Withdraw some money\n",
    "my_account.Withdraw(250)\n",
    "\n",
    "#Deposit some 'negative' money (unsuccessful)\n",
    "my_account.deposit(-100)"
   ]
  },
  {
   "cell_type": "code",
   "execution_count": null,
   "id": "87db378e",
   "metadata": {},
   "outputs": [],
   "source": []
  }
 ],
 "metadata": {
  "kernelspec": {
   "display_name": "Python 3 (ipykernel)",
   "language": "python",
   "name": "python3"
  },
  "language_info": {
   "codemirror_mode": {
    "name": "ipython",
    "version": 3
   },
   "file_extension": ".py",
   "mimetype": "text/x-python",
   "name": "python",
   "nbconvert_exporter": "python",
   "pygments_lexer": "ipython3",
   "version": "3.11.5"
  }
 },
 "nbformat": 4,
 "nbformat_minor": 5
}
